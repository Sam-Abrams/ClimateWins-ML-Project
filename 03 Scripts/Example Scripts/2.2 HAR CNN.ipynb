{
 "cells": [
  {
   "cell_type": "code",
   "execution_count": 1,
   "id": "a11aa508",
   "metadata": {},
   "outputs": [],
   "source": [
    "import pandas as pd\n",
    "import numpy as np\n",
    "import seaborn as sns\n",
    "import os\n",
    "import operator\n",
    "import matplotlib.pyplot as plt\n",
    "from sklearn.preprocessing import LabelEncoder\n",
    "import tensorflow as tf\n",
    "from numpy import unique\n",
    "from numpy import reshape\n",
    "from keras.models import Sequential\n",
    "from keras.layers import Conv1D, Conv2D, Dense, BatchNormalization, Flatten, MaxPooling1D\n",
    "from keras.layers.core import Dense, Dropout\n",
    "from keras.utils import np_utils"
   ]
  },
  {
   "cell_type": "code",
   "execution_count": 2,
   "id": "5ea05a5d",
   "metadata": {},
   "outputs": [],
   "source": [
    "path = r'/Users/yourname/Datasets'"
   ]
  },
  {
   "cell_type": "code",
   "execution_count": 4,
   "id": "e719b5f0",
   "metadata": {},
   "outputs": [],
   "source": [
    "tf.random.set_seed(42)"
   ]
  },
  {
   "cell_type": "code",
   "execution_count": 5,
   "id": "ca844f9e",
   "metadata": {},
   "outputs": [],
   "source": [
    "signals = [\n",
    "    \"body_acc_x\",\n",
    "    \"body_acc_y\",\n",
    "    \"body_acc_z\",\n",
    "    \"body_gyro_x\",\n",
    "    \"body_gyro_y\",\n",
    "    \"body_gyro_z\",\n",
    "    \"total_acc_x\",\n",
    "    \"total_acc_y\",\n",
    "    \"total_acc_z\"\n",
    "]"
   ]
  },
  {
   "cell_type": "code",
   "execution_count": 6,
   "id": "3bebe2ea",
   "metadata": {},
   "outputs": [],
   "source": [
    "activities = {\n",
    "    0: 'WALKING',\n",
    "    1: 'WALKING_UPSTAIRS',\n",
    "    2: 'WALKING_DOWNSTAIRS',\n",
    "    3: 'SITTING',\n",
    "    4: 'STANDING',\n",
    "    5: 'LAYING',\n",
    "}"
   ]
  },
  {
   "cell_type": "code",
   "execution_count": 7,
   "id": "02d20dbf",
   "metadata": {},
   "outputs": [],
   "source": [
    "def _read_csv(filename):\n",
    "    return pd.read_csv(filename, delim_whitespace=True, header=None)\n",
    "\n",
    "def load_signals(subset):\n",
    "    signals_data = []\n",
    "\n",
    "    for signal in signals:\n",
    "        filename = f'{path}/{subset}/Inertial Signals/{signal}_{subset}.txt'\n",
    "        signals_data.append(\n",
    "            _read_csv(filename).to_numpy()\n",
    "        ) \n",
    "\n",
    "    # Transpose is used to change the dimensionality of the output,\n",
    "    # aggregating the signals by combination of sample/timestep.\n",
    "    # Resultant shape is (7352 train/2947 test samples, 128 timesteps, 9 signals)\n",
    "    return np.transpose(signals_data, (1, 2, 0))\n",
    "\n",
    "def load_y(subset):\n",
    "    \"\"\"\n",
    "    The objective that we are trying to predict is a integer, from 1 to 6,\n",
    "    that represents a human activity. We return a binary representation of \n",
    "    every sample objective as a 6 bits vector using One Hot Encoding\n",
    "    (https://pandas.pydata.org/pandas-docs/stable/generated/pandas.get_dummies.html)\n",
    "    \"\"\"\n",
    "    filename = f'{path}/{subset}/y_{subset}.txt'\n",
    "    y = _read_csv(filename)[0]\n",
    "\n",
    "    return pd.get_dummies(y).to_numpy()\n",
    "\n",
    "def load_data():\n",
    "    \"\"\"\n",
    "    Obtain the dataset from multiple files.\n",
    "    Returns: X_train, X_test, y_train, y_test\n",
    "    \"\"\"\n",
    "    X_train, X_test = load_signals('train'), load_signals('test')\n",
    "    y_train, y_test = load_y('train'), load_y('test')\n",
    "\n",
    "    return X_train, X_test, y_train, y_test\n",
    "\n",
    "def _count_classes(y):\n",
    "    return len(set([tuple(category) for category in y]))"
   ]
  },
  {
   "cell_type": "code",
   "execution_count": 8,
   "id": "0d04ea89",
   "metadata": {},
   "outputs": [],
   "source": [
    "X_train, X_test, Y_train, Y_test = load_data()"
   ]
  },
  {
   "cell_type": "code",
   "execution_count": 9,
   "id": "3a790644",
   "metadata": {},
   "outputs": [
    {
     "name": "stdout",
     "output_type": "stream",
     "text": [
      "(7352, 128, 9) (7352, 6)\n",
      "(2947, 128, 9) (2947, 6)\n"
     ]
    }
   ],
   "source": [
    "print(X_train.shape, Y_train.shape)\n",
    "print(X_test.shape, Y_test.shape)"
   ]
  },
  {
   "cell_type": "code",
   "execution_count": 10,
   "id": "ff5d4f99",
   "metadata": {
    "scrolled": true
   },
   "outputs": [
    {
     "data": {
      "text/plain": [
       "array([[[ 1.808515e-04,  1.076681e-02,  5.556068e-02, ...,\n",
       "          1.012817e+00, -1.232167e-01,  1.029341e-01],\n",
       "        [ 1.013856e-02,  6.579480e-03,  5.512483e-02, ...,\n",
       "          1.022833e+00, -1.268756e-01,  1.056872e-01],\n",
       "        [ 9.275574e-03,  8.928878e-03,  4.840473e-02, ...,\n",
       "          1.022028e+00, -1.240037e-01,  1.021025e-01],\n",
       "        ...,\n",
       "        [-1.147484e-03,  1.714439e-04,  2.647864e-03, ...,\n",
       "          1.018445e+00, -1.240696e-01,  1.003852e-01],\n",
       "        [-2.222655e-04,  1.574181e-03,  2.381057e-03, ...,\n",
       "          1.019372e+00, -1.227451e-01,  9.987355e-02],\n",
       "        [ 1.575500e-03,  3.070189e-03, -2.269757e-03, ...,\n",
       "          1.021171e+00, -1.213260e-01,  9.498741e-02]],\n",
       "\n",
       "       [[ 1.093752e-03, -4.687588e-03, -2.685954e-02, ...,\n",
       "          1.018851e+00, -1.239760e-01,  9.792958e-02],\n",
       "        [ 4.550077e-03, -7.487894e-03, -2.509841e-02, ...,\n",
       "          1.022380e+00, -1.268078e-01,  9.935086e-02],\n",
       "        [ 2.879173e-03, -8.429991e-03, -2.597534e-02, ...,\n",
       "          1.020781e+00, -1.277862e-01,  9.811381e-02],\n",
       "        ...,\n",
       "        [-4.646144e-03, -5.479850e-03, -2.996671e-04, ...,\n",
       "          1.014788e+00, -1.290268e-01,  9.353520e-02],\n",
       "        [-2.941333e-03, -2.987481e-03, -4.886324e-03, ...,\n",
       "          1.016499e+00, -1.264244e-01,  8.903516e-02],\n",
       "        [-1.598751e-03, -7.192009e-03, -3.397195e-03, ...,\n",
       "          1.017849e+00, -1.305193e-01,  9.061235e-02]],\n",
       "\n",
       "       [[ 3.531266e-03,  4.455942e-03, -5.914581e-03, ...,\n",
       "          1.023127e+00, -1.200157e-01,  9.111667e-02],\n",
       "        [ 2.285063e-03,  3.045876e-03, -4.138911e-03, ...,\n",
       "          1.021882e+00, -1.214994e-01,  9.267560e-02],\n",
       "        [-4.197538e-04,  1.776179e-03, -5.428851e-04, ...,\n",
       "          1.019178e+00, -1.228407e-01,  9.606378e-02],\n",
       "        ...,\n",
       "        [ 1.245999e-03, -6.397631e-03, -1.144203e-02, ...,\n",
       "          1.021041e+00, -1.308757e-01,  8.301135e-02],\n",
       "        [ 3.116783e-03, -6.601456e-03, -1.203020e-02, ...,\n",
       "          1.022935e+00, -1.312099e-01,  8.233391e-02],\n",
       "        [ 2.177658e-03, -5.442240e-03, -1.278381e-02, ...,\n",
       "          1.022019e+00, -1.301826e-01,  8.148748e-02]],\n",
       "\n",
       "       ...,\n",
       "\n",
       "       [[-2.267175e-01,  5.684462e-02,  2.289274e-01, ...,\n",
       "          7.548917e-01, -1.711829e-01,  1.745865e-01],\n",
       "        [-1.778169e-01,  2.716956e-02,  2.890968e-01, ...,\n",
       "          8.043137e-01, -1.999375e-01,  2.324243e-01],\n",
       "        [-1.508691e-01, -5.757124e-03,  3.165541e-01, ...,\n",
       "          8.317140e-01, -2.319457e-01,  2.576066e-01],\n",
       "        ...,\n",
       "        [-2.949353e-01, -1.123039e-02,  9.884312e-02, ...,\n",
       "          6.956257e-01, -2.217656e-01,  1.112952e-01],\n",
       "        [-2.434030e-01, -7.121083e-02,  1.158437e-01, ...,\n",
       "          7.479103e-01, -2.811496e-01,  1.263023e-01],\n",
       "        [-2.152148e-01, -1.182353e-01,  1.802014e-01, ...,\n",
       "          7.767680e-01, -3.275988e-01,  1.886212e-01]],\n",
       "\n",
       "       [[-6.480597e-02, -5.740777e-03,  3.102535e-01, ...,\n",
       "          9.279268e-01, -2.238010e-01,  2.628140e-01],\n",
       "        [-7.993300e-02, -3.260742e-03,  3.429152e-01, ...,\n",
       "          9.129872e-01, -2.210407e-01,  2.954154e-01],\n",
       "        [-6.834966e-02,  3.351273e-02,  3.850993e-01, ...,\n",
       "          9.246597e-01, -1.839923e-01,  3.376098e-01],\n",
       "        ...,\n",
       "        [-3.150159e-01,  5.451652e-02,  1.658256e-01, ...,\n",
       "          6.753473e-01, -1.620087e-01,  1.289247e-01],\n",
       "        [-3.307374e-01,  1.436651e-02,  2.109568e-01, ...,\n",
       "          6.603377e-01, -2.020367e-01,  1.722512e-01],\n",
       "        [-2.723475e-01, -1.284256e-02,  2.505605e-01, ...,\n",
       "          7.193530e-01, -2.291273e-01,  2.100712e-01]],\n",
       "\n",
       "       [[-1.944707e-01, -9.723743e-02,  2.030342e-01, ...,\n",
       "          7.980909e-01, -3.060512e-01,  2.093865e-01],\n",
       "        [-1.738025e-01, -5.831043e-02,  2.267976e-01, ...,\n",
       "          8.192417e-01, -2.666046e-01,  2.310711e-01],\n",
       "        [-1.275446e-01,  2.447115e-03,  3.319892e-01, ...,\n",
       "          8.658821e-01, -2.053607e-01,  3.341906e-01],\n",
       "        ...,\n",
       "        [-7.190685e-02, -1.943222e-01, -1.275547e-01, ...,\n",
       "          8.980947e-01, -3.977751e-01, -1.561050e-01],\n",
       "        [-1.422088e-01, -1.470701e-01, -9.236675e-02, ...,\n",
       "          8.283723e-01, -3.492473e-01, -1.227979e-01],\n",
       "        [-1.709989e-01, -1.313991e-01, -5.112688e-02, ...,\n",
       "          8.002428e-01, -3.323721e-01, -8.357159e-02]]])"
      ]
     },
     "execution_count": 10,
     "metadata": {},
     "output_type": "execute_result"
    }
   ],
   "source": [
    "X_train"
   ]
  },
  {
   "cell_type": "code",
   "execution_count": 11,
   "id": "2ff3e434",
   "metadata": {},
   "outputs": [
    {
     "data": {
      "text/plain": [
       "128"
      ]
     },
     "execution_count": 11,
     "metadata": {},
     "output_type": "execute_result"
    }
   ],
   "source": [
    "len(X_train[0])"
   ]
  },
  {
   "cell_type": "code",
   "execution_count": 12,
   "id": "19b6852a",
   "metadata": {},
   "outputs": [
    {
     "data": {
      "text/plain": [
       "9"
      ]
     },
     "execution_count": 12,
     "metadata": {},
     "output_type": "execute_result"
    }
   ],
   "source": [
    "len(X_train[0][0])"
   ]
  },
  {
   "cell_type": "code",
   "execution_count": 13,
   "id": "871ddcff",
   "metadata": {},
   "outputs": [],
   "source": [
    "epochs = 30\n",
    "batch_size = 16\n",
    "n_hidden = 32\n",
    "\n",
    "timesteps = len(X_train[0])\n",
    "input_dim = len(X_train[0][0])\n",
    "n_classes = _count_classes(Y_train)\n",
    "\n",
    "model = Sequential()\n",
    "model.add(Conv1D(n_hidden, kernel_size=2, activation='relu', input_shape=(timesteps, input_dim)))\n",
    "model.add(Dense(16, activation='relu'))\n",
    "model.add(MaxPooling1D())\n",
    "model.add(Flatten())\n",
    "model.add(Dense(n_classes, activation='softmax')) #sigmoid"
   ]
  },
  {
   "cell_type": "code",
   "execution_count": 14,
   "id": "8309a220",
   "metadata": {},
   "outputs": [],
   "source": [
    "model.compile(loss='categorical_crossentropy', optimizer='adam', metrics=['accuracy'])"
   ]
  },
  {
   "cell_type": "code",
   "execution_count": 15,
   "id": "6138bf34",
   "metadata": {
    "scrolled": true
   },
   "outputs": [
    {
     "name": "stdout",
     "output_type": "stream",
     "text": [
      "Epoch 1/30\n",
      "460/460 - 1s - loss: 0.5563 - accuracy: 0.7813 - 847ms/epoch - 2ms/step\n",
      "Epoch 2/30\n",
      "460/460 - 0s - loss: 0.2325 - accuracy: 0.9203 - 454ms/epoch - 987us/step\n",
      "Epoch 3/30\n",
      "460/460 - 1s - loss: 0.1601 - accuracy: 0.9410 - 505ms/epoch - 1ms/step\n",
      "Epoch 4/30\n",
      "460/460 - 0s - loss: 0.1337 - accuracy: 0.9480 - 491ms/epoch - 1ms/step\n",
      "Epoch 5/30\n",
      "460/460 - 0s - loss: 0.1202 - accuracy: 0.9495 - 460ms/epoch - 1ms/step\n",
      "Epoch 6/30\n",
      "460/460 - 0s - loss: 0.1135 - accuracy: 0.9531 - 460ms/epoch - 1000us/step\n",
      "Epoch 7/30\n",
      "460/460 - 0s - loss: 0.1070 - accuracy: 0.9535 - 490ms/epoch - 1ms/step\n",
      "Epoch 8/30\n",
      "460/460 - 0s - loss: 0.1049 - accuracy: 0.9554 - 498ms/epoch - 1ms/step\n",
      "Epoch 9/30\n",
      "460/460 - 0s - loss: 0.0979 - accuracy: 0.9572 - 441ms/epoch - 959us/step\n",
      "Epoch 10/30\n",
      "460/460 - 0s - loss: 0.0933 - accuracy: 0.9585 - 457ms/epoch - 993us/step\n",
      "Epoch 11/30\n",
      "460/460 - 0s - loss: 0.0911 - accuracy: 0.9600 - 451ms/epoch - 980us/step\n",
      "Epoch 12/30\n",
      "460/460 - 0s - loss: 0.0872 - accuracy: 0.9607 - 457ms/epoch - 993us/step\n",
      "Epoch 13/30\n",
      "460/460 - 0s - loss: 0.0849 - accuracy: 0.9638 - 450ms/epoch - 978us/step\n",
      "Epoch 14/30\n",
      "460/460 - 0s - loss: 0.0797 - accuracy: 0.9631 - 444ms/epoch - 965us/step\n",
      "Epoch 15/30\n",
      "460/460 - 0s - loss: 0.0723 - accuracy: 0.9664 - 448ms/epoch - 974us/step\n",
      "Epoch 16/30\n",
      "460/460 - 0s - loss: 0.0773 - accuracy: 0.9660 - 460ms/epoch - 1000us/step\n",
      "Epoch 17/30\n",
      "460/460 - 0s - loss: 0.0683 - accuracy: 0.9680 - 474ms/epoch - 1ms/step\n",
      "Epoch 18/30\n",
      "460/460 - 0s - loss: 0.0723 - accuracy: 0.9665 - 469ms/epoch - 1ms/step\n",
      "Epoch 19/30\n",
      "460/460 - 0s - loss: 0.0652 - accuracy: 0.9694 - 454ms/epoch - 987us/step\n",
      "Epoch 20/30\n",
      "460/460 - 0s - loss: 0.0640 - accuracy: 0.9714 - 450ms/epoch - 978us/step\n",
      "Epoch 21/30\n",
      "460/460 - 0s - loss: 0.0624 - accuracy: 0.9705 - 448ms/epoch - 974us/step\n",
      "Epoch 22/30\n",
      "460/460 - 0s - loss: 0.0616 - accuracy: 0.9703 - 427ms/epoch - 928us/step\n",
      "Epoch 23/30\n",
      "460/460 - 0s - loss: 0.0590 - accuracy: 0.9709 - 443ms/epoch - 963us/step\n",
      "Epoch 24/30\n",
      "460/460 - 0s - loss: 0.0576 - accuracy: 0.9737 - 442ms/epoch - 961us/step\n",
      "Epoch 25/30\n",
      "460/460 - 0s - loss: 0.0596 - accuracy: 0.9721 - 449ms/epoch - 976us/step\n",
      "Epoch 26/30\n",
      "460/460 - 0s - loss: 0.0589 - accuracy: 0.9720 - 437ms/epoch - 950us/step\n",
      "Epoch 27/30\n",
      "460/460 - 0s - loss: 0.0539 - accuracy: 0.9732 - 419ms/epoch - 911us/step\n",
      "Epoch 28/30\n",
      "460/460 - 0s - loss: 0.0519 - accuracy: 0.9754 - 446ms/epoch - 970us/step\n",
      "Epoch 29/30\n",
      "460/460 - 0s - loss: 0.0534 - accuracy: 0.9751 - 433ms/epoch - 941us/step\n",
      "Epoch 30/30\n",
      "460/460 - 0s - loss: 0.0584 - accuracy: 0.9747 - 460ms/epoch - 1ms/step\n"
     ]
    },
    {
     "data": {
      "text/plain": [
       "<keras.callbacks.History at 0x1d5b59e0d00>"
      ]
     },
     "execution_count": 15,
     "metadata": {},
     "output_type": "execute_result"
    }
   ],
   "source": [
    "model.fit(X_train, Y_train, batch_size=batch_size, epochs=epochs, verbose=2)"
   ]
  },
  {
   "cell_type": "code",
   "execution_count": 16,
   "id": "9a2e9380",
   "metadata": {},
   "outputs": [],
   "source": [
    "def confusion_matrix(Y_true, Y_pred):\n",
    "    Y_true = pd.Series([activities[y] for y in np.argmax(Y_true, axis=1)])\n",
    "    Y_pred = pd.Series([activities[y] for y in np.argmax(Y_pred, axis=1)])\n",
    "\n",
    "    return pd.crosstab(Y_true, Y_pred, rownames=['True'], colnames=['Pred'])"
   ]
  },
  {
   "cell_type": "code",
   "execution_count": 17,
   "id": "37d93a57",
   "metadata": {
    "scrolled": true
   },
   "outputs": [
    {
     "name": "stdout",
     "output_type": "stream",
     "text": [
      "93/93 [==============================] - 0s 630us/step\n",
      "Pred                LAYING  SITTING  STANDING  WALKING  WALKING_DOWNSTAIRS  \\\n",
      "True                                                                         \n",
      "LAYING                 494        0         0        0                   0   \n",
      "SITTING                  5      413        53        0                   0   \n",
      "STANDING                 0      113       415        1                   0   \n",
      "WALKING                  0        0         0      450                  28   \n",
      "WALKING_DOWNSTAIRS       0        0         1        8                 406   \n",
      "WALKING_UPSTAIRS         0        0         0       19                  34   \n",
      "\n",
      "Pred                WALKING_UPSTAIRS  \n",
      "True                                  \n",
      "LAYING                            43  \n",
      "SITTING                           20  \n",
      "STANDING                           3  \n",
      "WALKING                           18  \n",
      "WALKING_DOWNSTAIRS                 5  \n",
      "WALKING_UPSTAIRS                 418  \n"
     ]
    }
   ],
   "source": [
    "# Evaluate\n",
    "print(confusion_matrix(Y_test, model.predict(X_test)))"
   ]
  }
 ],
 "metadata": {
  "kernelspec": {
   "display_name": "Python 3 (ipykernel)",
   "language": "python",
   "name": "python3"
  },
  "language_info": {
   "codemirror_mode": {
    "name": "ipython",
    "version": 3
   },
   "file_extension": ".py",
   "mimetype": "text/x-python",
   "name": "python",
   "nbconvert_exporter": "python",
   "pygments_lexer": "ipython3",
   "version": "3.9.7"
  }
 },
 "nbformat": 4,
 "nbformat_minor": 5
}
